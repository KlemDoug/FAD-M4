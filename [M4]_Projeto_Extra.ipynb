{
  "nbformat": 4,
  "nbformat_minor": 0,
  "metadata": {
    "colab": {
      "provenance": [],
      "toc_visible": true,
      "authorship_tag": "ABX9TyPCbL+uxF9pgB7JszsYHFBb",
      "include_colab_link": true
    },
    "kernelspec": {
      "name": "python3",
      "display_name": "Python 3"
    },
    "language_info": {
      "name": "python"
    }
  },
  "cells": [
    {
      "cell_type": "markdown",
      "metadata": {
        "id": "view-in-github",
        "colab_type": "text"
      },
      "source": [
        "<a href=\"https://colab.research.google.com/github/KlemDoug/FAD-M4/blob/main/%5BM4%5D_Projeto_Extra.ipynb\" target=\"_parent\"><img src=\"https://colab.research.google.com/assets/colab-badge.svg\" alt=\"Open In Colab\"/></a>"
      ]
    },
    {
      "cell_type": "markdown",
      "source": [
        "# Funcionários da Companhia Milsa\n",
        "---\n",
        "- SENAC/RESILIA - Formação em Análise de Dados (FAD)            \n",
        "- Projeto Extra - Módulo 4                 \n",
        "- !/usr/bin/env python3 - versão = '3.11(64-bit)' \n",
        "- (-*- coding:utf-8-*-)                                        \n",
        "- Criado por: Douglas Klem Portugal do Amaral                   \n",
        "- Data de criação: 08/05/2023                                   \n",
        "---"
      ],
      "metadata": {
        "id": "h_QlKrqFsftK"
      }
    },
    {
      "cell_type": "code",
      "execution_count": null,
      "metadata": {
        "id": "Zhl3p1q2rm6h"
      },
      "outputs": [],
      "source": []
    }
  ]
}